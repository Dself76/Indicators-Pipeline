{
 "cells": [
  {
   "cell_type": "code",
   "execution_count": 10,
   "metadata": {},
   "outputs": [
    {
     "name": "stdout",
     "output_type": "stream",
     "text": [
      "<function data at 0x000002BC0D7D8220>\n"
     ]
    }
   ],
   "source": [
    "import pandas as pd\n",
    "import pandas as pd\n",
    "import yfinance as yf\n",
    "from datetime import datetime, timedelta\n",
    "def data(ticker):\n",
    "    stock = yf.Ticker(ticker)\n",
    "    end_date = datetime.now()\n",
    "    start_date = end_date - timedelta(days=365)\n",
    "    hist_data = stock.history(start=start_date, end=end_date)\n",
    "    \n",
    "    return hist_data\n",
    "user_ticker = input(\"Enter the stock ticker symbol (e.g., AAPL for Apple or BTC-USD for bitcoin): \").upper()\n",
    "print(data)"
   ]
  },
  {
   "cell_type": "code",
   "execution_count": 11,
   "metadata": {},
   "outputs": [
    {
     "name": "stdout",
     "output_type": "stream",
     "text": [
      "\n",
      "Historical data for BTC-USD:\n",
      "                                   Open          High           Low  \\\n",
      "Date                                                                  \n",
      "2023-07-17 00:00:00+00:00  30249.626953  30336.400391  29685.783203   \n",
      "2023-07-18 00:00:00+00:00  30147.070312  30233.656250  29556.427734   \n",
      "2023-07-19 00:00:00+00:00  29862.046875  30184.181641  29794.269531   \n",
      "2023-07-20 00:00:00+00:00  29915.250000  30195.531250  29638.095703   \n",
      "2023-07-21 00:00:00+00:00  29805.111328  30045.998047  29733.851562   \n",
      "...                                 ...           ...           ...   \n",
      "2024-07-11 00:00:00+00:00  57729.890625  59299.433594  57120.378906   \n",
      "2024-07-12 00:00:00+00:00  57341.195312  58532.554688  56590.175781   \n",
      "2024-07-13 00:00:00+00:00  57908.738281  59787.078125  57796.441406   \n",
      "2024-07-14 00:00:00+00:00  59225.250000  61329.527344  59225.250000   \n",
      "2024-07-15 00:00:00+00:00  60815.457031  64870.152344  60704.929688   \n",
      "\n",
      "                                  Close       Volume  Dividends  Stock Splits  \n",
      "Date                                                                           \n",
      "2023-07-17 00:00:00+00:00  30145.888672  13240156074        0.0           0.0  \n",
      "2023-07-18 00:00:00+00:00  29856.562500  13138897269        0.0           0.0  \n",
      "2023-07-19 00:00:00+00:00  29913.923828  12128602812        0.0           0.0  \n",
      "2023-07-20 00:00:00+00:00  29792.015625  14655207121        0.0           0.0  \n",
      "2023-07-21 00:00:00+00:00  29908.744141  10972789818        0.0           0.0  \n",
      "...                                 ...          ...        ...           ...  \n",
      "2024-07-11 00:00:00+00:00  57344.914062  28707803842        0.0           0.0  \n",
      "2024-07-12 00:00:00+00:00  57899.464844  25604805221        0.0           0.0  \n",
      "2024-07-13 00:00:00+00:00  59231.953125  17080061806        0.0           0.0  \n",
      "2024-07-14 00:00:00+00:00  60787.792969  22223416061        0.0           0.0  \n",
      "2024-07-15 00:00:00+00:00  64870.152344  38094526099        0.0           0.0  \n",
      "\n",
      "[365 rows x 7 columns]\n",
      "\n",
      "Data saved to BTC-USD_1year_history.csv\n"
     ]
    }
   ],
   "source": [
    "try:\n",
    "    # Fetch the data\n",
    "    df = data(user_ticker)\n",
    "    \n",
    "    # Display the data\n",
    "    print(f\"\\nHistorical data for {user_ticker}:\")\n",
    "    print(df)\n",
    "    \n",
    "    # Optional: Save to CSV\n",
    "    csv_filename = f\"{user_ticker}_1year_history.csv\"\n",
    "    df.to_csv(csv_filename)\n",
    "    print(f\"\\nData saved to {csv_filename}\")\n",
    "except Exception as e:\n",
    "    print(f\"An error occurred: {e}\")\n",
    "    print(\"Please check if the ticker symbol is correct and try again.\")"
   ]
  },
  {
   "cell_type": "code",
   "execution_count": 12,
   "metadata": {},
   "outputs": [
    {
     "name": "stdout",
     "output_type": "stream",
     "text": [
      "Sum of closing prices for 2024-07-02 to 2024-07-15: 822586.76171875\n",
      "Sum of closing prices for 2024-06-18 to 2024-07-01: 877695.1953125\n",
      "Sum of closing prices for 2024-06-04 to 2024-06-17: 957877.4375\n",
      "Sum of closing prices for 2024-05-21 to 2024-06-03: 958887.1640625\n",
      "Sum of closing prices for 2024-05-07 to 2024-05-20: 897280.15625\n",
      "Sum of closing prices for 2024-04-23 to 2024-05-06: 881283.3828125\n",
      "Sum of closing prices for 2024-04-09 to 2024-04-22: 919173.4296875\n",
      "Sum of closing prices for 2024-03-26 to 2024-04-08: 968426.35546875\n",
      "Sum of closing prices for 2024-03-12 to 2024-03-25: 946971.27734375\n",
      "Sum of closing prices for 2024-02-27 to 2024-03-11: 911532.96875\n",
      "Sum of closing prices for 2024-02-13 to 2024-02-26: 725220.30078125\n",
      "Sum of closing prices for 2024-01-30 to 2024-02-12: 625906.42578125\n",
      "Sum of closing prices for 2024-01-16 to 2024-01-29: 580614.0\n",
      "Sum of closing prices for 2024-01-02 to 2024-01-15: 620191.4375\n",
      "Sum of closing prices for 2023-12-19 to 2024-01-01: 603438.5703125\n",
      "Sum of closing prices for 2023-12-05 to 2023-12-18: 599558.890625\n",
      "Sum of closing prices for 2023-11-21 to 2023-12-04: 534312.03125\n",
      "Sum of closing prices for 2023-11-07 to 2023-11-20: 513419.7421875\n",
      "Sum of closing prices for 2023-10-24 to 2023-11-06: 484545.73828125\n",
      "Sum of closing prices for 2023-10-10 to 2023-10-23: 398569.728515625\n",
      "Sum of closing prices for 2023-09-26 to 2023-10-09: 383065.17578125\n",
      "Sum of closing prices for 2023-09-12 to 2023-09-25: 371691.80859375\n",
      "Sum of closing prices for 2023-08-29 to 2023-09-11: 364977.263671875\n",
      "Sum of closing prices for 2023-08-15 to 2023-08-28: 371873.80859375\n",
      "Sum of closing prices for 2023-08-01 to 2023-08-14: 410606.638671875\n",
      "Sum of closing prices for 2023-07-18 to 2023-07-31: 413479.140625\n"
     ]
    }
   ],
   "source": [
    "import pandas as pd\n",
    "\n",
    "# Assuming df is your DataFrame with the historical data\n",
    "# Make sure the DataFrame is sorted in descending order by date (most recent first)\n",
    "df = df.sort_index(ascending=False)\n",
    "\n",
    "# Initialize a dictionary to store the results\n",
    "sma_results = {}\n",
    "\n",
    "# Calculate SMA for each 14-day period, starting from the most recent\n",
    "for i in range(0, len(df) - 14 + 1, 14):\n",
    "    # Get the closing prices for the current 14-day window\n",
    "    current_closes = df['Close'].iloc[i:i+14]\n",
    "    # Calculate the sum of these closing prices\n",
    "    sum_of_closes = current_closes.sum()\n",
    "    # Calculate the end date of this period\n",
    "    end_date = df.index[i].strftime('%Y-%m-%d')\n",
    "    # Calculate the start date of this period\n",
    "    start_date = df.index[min(i+13, len(df)-1)].strftime('%Y-%m-%d')\n",
    "    # Store the result with a date range representing the period\n",
    "    sma_results[f'{start_date} to {end_date}'] = sum_of_closes\n",
    "\n",
    "# Print all the SMA sums\n",
    "for period, sum_value in sma_results.items():\n",
    "    print(f\"Sum of closing prices for {period}: {sum_value}\")\n"
   ]
  }
 ],
 "metadata": {
  "kernelspec": {
   "display_name": "venv",
   "language": "python",
   "name": "python3"
  },
  "language_info": {
   "codemirror_mode": {
    "name": "ipython",
    "version": 3
   },
   "file_extension": ".py",
   "mimetype": "text/x-python",
   "name": "python",
   "nbconvert_exporter": "python",
   "pygments_lexer": "ipython3",
   "version": "3.12.0"
  }
 },
 "nbformat": 4,
 "nbformat_minor": 2
}
