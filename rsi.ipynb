{
 "cells": [
  {
   "cell_type": "code",
   "execution_count": 7,
   "metadata": {},
   "outputs": [],
   "source": [
    "import pandas as pd\n",
    "import pandas as pd\n",
    "import yfinance as yf\n",
    "from datetime import datetime, timedelta\n",
    "def data(ticker):\n",
    "    stock = yf.Ticker(ticker)\n",
    "    end_date = datetime.now()\n",
    "    start_date = end_date - timedelta(days=365)\n",
    "    hist_data = stock.history(start=start_date, end=end_date)\n",
    "    \n",
    "    return hist_data\n",
    "user_ticker = input(\"Enter the stock ticker symbol (e.g., AAPL for Apple or BTC-USD for bitcoin): \").upper()\n"
   ]
  },
  {
   "cell_type": "code",
   "execution_count": 8,
   "metadata": {},
   "outputs": [
    {
     "name": "stdout",
     "output_type": "stream",
     "text": [
      "\n",
      "Historical data for BTC-USD:\n",
      "Date range: 2023-07-17 to 2024-07-15\n",
      "Number of trading days: 365\n",
      "\n",
      "First few rows of the data:\n",
      "                                   Open          High           Low  \\\n",
      "Date                                                                  \n",
      "2023-07-17 00:00:00+00:00  30249.626953  30336.400391  29685.783203   \n",
      "2023-07-18 00:00:00+00:00  30147.070312  30233.656250  29556.427734   \n",
      "2023-07-19 00:00:00+00:00  29862.046875  30184.181641  29794.269531   \n",
      "2023-07-20 00:00:00+00:00  29915.250000  30195.531250  29638.095703   \n",
      "2023-07-21 00:00:00+00:00  29805.111328  30045.998047  29733.851562   \n",
      "\n",
      "                                  Close       Volume  Dividends  Stock Splits  \n",
      "Date                                                                           \n",
      "2023-07-17 00:00:00+00:00  30145.888672  13240156074        0.0           0.0  \n",
      "2023-07-18 00:00:00+00:00  29856.562500  13138897269        0.0           0.0  \n",
      "2023-07-19 00:00:00+00:00  29913.923828  12128602812        0.0           0.0  \n",
      "2023-07-20 00:00:00+00:00  29792.015625  14655207121        0.0           0.0  \n",
      "2023-07-21 00:00:00+00:00  29908.744141  10972789818        0.0           0.0  \n",
      "\n",
      "Data saved to BTC-USD_1year_history.csv\n"
     ]
    }
   ],
   "source": [
    "\n",
    "    \n",
    "try:# Fetch the data\n",
    "    df = data(user_ticker)\n",
    "    \n",
    "    # Display basic information about the DataFrame\n",
    "    print(f\"\\nHistorical data for {user_ticker}:\")\n",
    "    print(f\"Date range: {df.index[0].date()} to {df.index[-1].date()}\")\n",
    "    print(f\"Number of trading days: {len(df)}\")\n",
    "    print(\"\\nFirst few rows of the data:\")\n",
    "    print(df.head())\n",
    "    \n",
    "    # Optional: Save to CSV\n",
    "    csv_filename = f\"{user_ticker}_1year_history.csv\"\n",
    "    df.to_csv(csv_filename)\n",
    "    print(f\"\\nData saved to {csv_filename}\")\n",
    "except Exception as e:\n",
    "    print(f\"An error occurred: {e}\")\n",
    "    print(\"Please check if the ticker symbol is correct and try again.\")\n",
    "    "
   ]
  },
  {
   "cell_type": "markdown",
   "metadata": {},
   "source": []
  },
  {
   "cell_type": "code",
   "execution_count": 9,
   "metadata": {},
   "outputs": [
    {
     "name": "stdout",
     "output_type": "stream",
     "text": [
      "                                   Open         Close\n",
      "Date                                                 \n",
      "2024-07-02 00:00:00+00:00  62844.410156  62029.015625\n",
      "2024-07-03 00:00:00+00:00  62034.332031  60173.921875\n",
      "2024-07-04 00:00:00+00:00  60147.136719  56977.703125\n",
      "2024-07-05 00:00:00+00:00  57022.808594  56662.375000\n",
      "2024-07-06 00:00:00+00:00  56659.074219  58303.539062\n",
      "2024-07-07 00:00:00+00:00  58239.429688  55849.109375\n",
      "2024-07-08 00:00:00+00:00  55849.574219  56705.097656\n",
      "2024-07-09 00:00:00+00:00  56704.597656  58009.226562\n",
      "2024-07-10 00:00:00+00:00  58033.882812  57742.496094\n",
      "2024-07-11 00:00:00+00:00  57729.890625  57344.914062\n",
      "2024-07-12 00:00:00+00:00  57341.195312  57899.464844\n",
      "2024-07-13 00:00:00+00:00  57908.738281  59231.953125\n",
      "2024-07-14 00:00:00+00:00  59225.250000  60787.792969\n",
      "2024-07-15 00:00:00+00:00  60815.457031  64870.152344\n"
     ]
    }
   ],
   "source": [
    "# Extract the last 14 days of open and close prices\n",
    "last_14_days = df[['Open', 'Close']].tail(14)\n",
    "\n",
    "# Display the result\n",
    "print(last_14_days)\n"
   ]
  },
  {
   "cell_type": "code",
   "execution_count": 17,
   "metadata": {},
   "outputs": [
    {
     "name": "stdout",
     "output_type": "stream",
     "text": [
      "                                   Open         Close   Difference Result\n",
      "Date                                                                     \n",
      "2024-07-02 00:00:00+00:00  62844.410156  62029.015625  -815.394531   Loss\n",
      "2024-07-03 00:00:00+00:00  62034.332031  60173.921875 -1860.410156   Loss\n",
      "2024-07-04 00:00:00+00:00  60147.136719  56977.703125 -3169.433594   Loss\n",
      "2024-07-05 00:00:00+00:00  57022.808594  56662.375000  -360.433594   Loss\n",
      "2024-07-06 00:00:00+00:00  56659.074219  58303.539062  1644.464844   Gain\n",
      "2024-07-07 00:00:00+00:00  58239.429688  55849.109375 -2390.320312   Loss\n",
      "2024-07-08 00:00:00+00:00  55849.574219  56705.097656   855.523438   Gain\n",
      "2024-07-09 00:00:00+00:00  56704.597656  58009.226562  1304.628906   Gain\n",
      "2024-07-10 00:00:00+00:00  58033.882812  57742.496094  -291.386719   Loss\n",
      "2024-07-11 00:00:00+00:00  57729.890625  57344.914062  -384.976562   Loss\n",
      "2024-07-12 00:00:00+00:00  57341.195312  57899.464844   558.269531   Gain\n",
      "2024-07-13 00:00:00+00:00  57908.738281  59231.953125  1323.214844   Gain\n",
      "2024-07-14 00:00:00+00:00  59225.250000  60787.792969  1562.542969   Gain\n",
      "2024-07-15 00:00:00+00:00  60815.457031  64870.152344  4054.695312   Gain\n",
      "Total Gain: 11303.33984375\n",
      "Total Loss: -9272.35546875\n"
     ]
    }
   ],
   "source": [
    "# Create new columns to store the result (Gain/Loss) and the difference\n",
    "last_14_days['Difference'] = 0.0  # Explicitly set the dtype to float\n",
    "last_14_days['Result'] = ''\n",
    "\n",
    "for index, row in last_14_days.iterrows():\n",
    "    open_price = row['Open']\n",
    "    close_price = row['Close']\n",
    "    # Calculate the difference\n",
    "    difference = close_price - open_price\n",
    "    # Determine if it's a gain or loss\n",
    "    result = 'Gain' if difference > 0 else 'Loss'\n",
    "    # Store the result and the difference in the DataFrame\n",
    "    last_14_days.at[index, 'Difference'] = difference\n",
    "    last_14_days.at[index, 'Result'] = result\n",
    "\n",
    "# Filter for gains and losses\n",
    "gains = last_14_days[last_14_days['Result'] == 'Gain']\n",
    "losses = last_14_days[last_14_days['Result'] == 'Loss']\n",
    "\n",
    "# Sum the 'Difference' column for each filtered DataFrame\n",
    "total_gain = gains['Difference'].sum()\n",
    "total_loss = losses['Difference'].sum()\n",
    "\n",
    "# Display the result\n",
    "print(last_14_days)\n",
    "print(\"Total Gain:\", total_gain)\n",
    "print(\"Total Loss:\", total_loss)"
   ]
  },
  {
   "cell_type": "code",
   "execution_count": 16,
   "metadata": {},
   "outputs": [
    {
     "name": "stdout",
     "output_type": "stream",
     "text": [
      "Date\n",
      "2024-07-02 00:00:00+00:00    Loss\n",
      "2024-07-03 00:00:00+00:00    Loss\n",
      "2024-07-04 00:00:00+00:00    Loss\n",
      "2024-07-05 00:00:00+00:00    Loss\n",
      "2024-07-06 00:00:00+00:00    Gain\n",
      "2024-07-07 00:00:00+00:00    Loss\n",
      "2024-07-08 00:00:00+00:00    Gain\n",
      "2024-07-09 00:00:00+00:00    Gain\n",
      "2024-07-10 00:00:00+00:00    Loss\n",
      "2024-07-11 00:00:00+00:00    Loss\n",
      "2024-07-12 00:00:00+00:00    Gain\n",
      "2024-07-13 00:00:00+00:00    Gain\n",
      "2024-07-14 00:00:00+00:00    Gain\n",
      "2024-07-15 00:00:00+00:00    Gain\n",
      "Name: Result, dtype: object\n",
      "Date\n",
      "2024-07-02 00:00:00+00:00     815.394531\n",
      "2024-07-03 00:00:00+00:00    1860.410156\n",
      "2024-07-04 00:00:00+00:00    3169.433594\n",
      "2024-07-05 00:00:00+00:00     360.433594\n",
      "2024-07-06 00:00:00+00:00    1644.464844\n",
      "2024-07-07 00:00:00+00:00    2390.320312\n",
      "2024-07-08 00:00:00+00:00     855.523438\n",
      "2024-07-09 00:00:00+00:00    1304.628906\n",
      "2024-07-10 00:00:00+00:00     291.386719\n",
      "2024-07-11 00:00:00+00:00     384.976562\n",
      "2024-07-12 00:00:00+00:00     558.269531\n",
      "2024-07-13 00:00:00+00:00    1323.214844\n",
      "2024-07-14 00:00:00+00:00    1562.542969\n",
      "2024-07-15 00:00:00+00:00    4054.695312\n",
      "Name: Difference, dtype: float64\n"
     ]
    }
   ],
   "source": []
  },
  {
   "cell_type": "code",
   "execution_count": 24,
   "metadata": {},
   "outputs": [
    {
     "name": "stdout",
     "output_type": "stream",
     "text": [
      "Total Gain: 11303.33984375\n",
      "Total Loss: -9272.35546875\n",
      "54.94\n"
     ]
    }
   ],
   "source": [
    "# Sum the 'Difference' column for each filtered DataFrame\n",
    "total_gain = gains['Difference'].sum()\n",
    "total_loss = losses['Difference'].sum()\n",
    "\n",
    "# Display the total gain and total loss\n",
    "print(\"Total Gain:\", total_gain)\n",
    "print(\"Total Loss:\", total_loss)\n",
    "total_loss = abs(total_loss)\n",
    "\n",
    "RSI = 100 - (100 / (1 + (total_gain / total_loss)))\n",
    "RSI = round(RSI,2)\n",
    "print(RSI)"
   ]
  },
  {
   "cell_type": "markdown",
   "metadata": {},
   "source": []
  },
  {
   "cell_type": "markdown",
   "metadata": {},
   "source": []
  }
 ],
 "metadata": {
  "kernelspec": {
   "display_name": "venv",
   "language": "python",
   "name": "python3"
  },
  "language_info": {
   "codemirror_mode": {
    "name": "ipython",
    "version": 3
   },
   "file_extension": ".py",
   "mimetype": "text/x-python",
   "name": "python",
   "nbconvert_exporter": "python",
   "pygments_lexer": "ipython3",
   "version": "3.12.0"
  }
 },
 "nbformat": 4,
 "nbformat_minor": 2
}
