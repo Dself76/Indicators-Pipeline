{
 "cells": [
  {
   "cell_type": "code",
   "execution_count": 10,
   "metadata": {},
   "outputs": [
    {
     "name": "stdout",
     "output_type": "stream",
     "text": [
      "<function data at 0x0000025EDD430B80>\n"
     ]
    }
   ],
   "source": [
    "import pandas as pd\n",
    "import pandas as pd\n",
    "import yfinance as yf\n",
    "from datetime import datetime, timedelta\n",
    "def data(ticker):\n",
    "    stock = yf.Ticker(ticker)\n",
    "    end_date = datetime.now()\n",
    "    start_date = end_date - timedelta(days=365)\n",
    "    hist_data = stock.history(start=start_date, end=end_date)\n",
    "    \n",
    "    return hist_data\n",
    "user_ticker = input(\"Enter the stock ticker symbol (e.g., AAPL for Apple or BTC-USD for bitcoin): \").upper()\n",
    "print(data)"
   ]
  },
  {
   "cell_type": "code",
   "execution_count": 11,
   "metadata": {},
   "outputs": [
    {
     "name": "stdout",
     "output_type": "stream",
     "text": [
      "\n",
      "Historical data for BTC-USD:\n",
      "                                   Open          High           Low  \\\n",
      "Date                                                                  \n",
      "2023-07-18 00:00:00+00:00  30147.070312  30233.656250  29556.427734   \n",
      "2023-07-19 00:00:00+00:00  29862.046875  30184.181641  29794.269531   \n",
      "2023-07-20 00:00:00+00:00  29915.250000  30195.531250  29638.095703   \n",
      "2023-07-21 00:00:00+00:00  29805.111328  30045.998047  29733.851562   \n",
      "2023-07-22 00:00:00+00:00  29908.697266  29991.615234  29664.121094   \n",
      "...                                 ...           ...           ...   \n",
      "2024-07-12 00:00:00+00:00  57341.195312  58532.554688  56590.175781   \n",
      "2024-07-13 00:00:00+00:00  57908.738281  59787.078125  57796.441406   \n",
      "2024-07-14 00:00:00+00:00  59225.250000  61329.527344  59225.250000   \n",
      "2024-07-15 00:00:00+00:00  60815.457031  64870.152344  60704.929688   \n",
      "2024-07-16 00:00:00+00:00  64784.417969  65354.339844  62487.968750   \n",
      "\n",
      "                                  Close       Volume  Dividends  Stock Splits  \n",
      "Date                                                                           \n",
      "2023-07-18 00:00:00+00:00  29856.562500  13138897269        0.0           0.0  \n",
      "2023-07-19 00:00:00+00:00  29913.923828  12128602812        0.0           0.0  \n",
      "2023-07-20 00:00:00+00:00  29792.015625  14655207121        0.0           0.0  \n",
      "2023-07-21 00:00:00+00:00  29908.744141  10972789818        0.0           0.0  \n",
      "2023-07-22 00:00:00+00:00  29771.802734   7873300598        0.0           0.0  \n",
      "...                                 ...          ...        ...           ...  \n",
      "2024-07-12 00:00:00+00:00  57899.464844  25604805221        0.0           0.0  \n",
      "2024-07-13 00:00:00+00:00  59231.953125  17080061806        0.0           0.0  \n",
      "2024-07-14 00:00:00+00:00  60787.792969  22223416061        0.0           0.0  \n",
      "2024-07-15 00:00:00+00:00  64870.152344  38094526099        0.0           0.0  \n",
      "2024-07-16 00:00:00+00:00  65097.148438  41617346768        0.0           0.0  \n",
      "\n",
      "[365 rows x 7 columns]\n",
      "\n",
      "Data saved to BTC-USD_1year_history.csv\n"
     ]
    }
   ],
   "source": [
    "try:\n",
    "    # Fetch the data\n",
    "    df = data(user_ticker)\n",
    "    \n",
    "    # Display the data\n",
    "    print(f\"\\nHistorical data for {user_ticker}:\")\n",
    "    print(df)\n",
    "    \n",
    "    # Optional: Save to CSV\n",
    "    csv_filename = f\"{user_ticker}_1year_history.csv\"\n",
    "    df.to_csv(csv_filename)\n",
    "    print(f\"\\nData saved to {csv_filename}\")\n",
    "except Exception as e:\n",
    "    print(f\"An error occurred: {e}\")\n",
    "    print(\"Please check if the ticker symbol is correct and try again.\")"
   ]
  },
  {
   "cell_type": "code",
   "execution_count": 12,
   "metadata": {},
   "outputs": [
    {
     "name": "stdout",
     "output_type": "stream",
     "text": [
      "SMA for 14-day periods within the first 180 days:\n",
      "Days 1 to 14 (2024-07-03 to 2024-07-16): 825654.89453125\n",
      "Days 15 to 28 (2024-06-19 to 2024-07-02): 874583.46484375\n",
      "Days 29 to 42 (2024-06-05 to 2024-06-18): 952450.41796875\n",
      "Days 43 to 56 (2024-05-22 to 2024-06-04): 959318.3984375\n",
      "Days 57 to 70 (2024-05-08 to 2024-05-21): 905081.87109375\n",
      "Days 71 to 84 (2024-04-24 to 2024-05-07): 877210.92578125\n",
      "Days 85 to 98 (2024-04-10 to 2024-04-23): 916441.6875\n",
      "Days 99 to 112 (2024-03-27 to 2024-04-09): 967577.53515625\n",
      "Days 113 to 126 (2024-03-13 to 2024-03-26): 945477.82421875\n",
      "Days 127 to 140 (2024-02-28 to 2024-03-12): 925928.88671875\n",
      "Days 141 to 154 (2024-02-14 to 2024-02-27): 732563.23046875\n",
      "Days 155 to 168 (2024-01-31 to 2024-02-13): 632696.2578125\n"
     ]
    }
   ],
   "source": [
    "import pandas as pd\n",
    "\n",
    "# Assuming df is your DataFrame with the historical data\n",
    "# Make sure the DataFrame is sorted in descending order by date (most recent first)\n",
    "df = df.sort_index(ascending=False)\n",
    "\n",
    "# Initialize a dictionary to store the results\n",
    "sma_results_6months = {}\n",
    "\n",
    "# Calculate the number of complete 14-day periods in 180 days\n",
    "num_periods = 180 // 14\n",
    "\n",
    "# Calculate SMA for each 14-day period within the first 180 days\n",
    "for i in range(num_periods):\n",
    "    start_idx = i * 14\n",
    "    end_idx = start_idx + 14\n",
    "    \n",
    "    # Get the closing prices for the current 14-day window\n",
    "    current_closes = df['Close'].iloc[start_idx:end_idx]\n",
    "    \n",
    "    # Calculate the sum of these closing prices\n",
    "    sum_of_closes = current_closes.sum()\n",
    "    \n",
    "    # Calculate the end date of this period\n",
    "    end_date = df.index[start_idx].strftime('%Y-%m-%d')\n",
    "    \n",
    "    # Calculate the start date of this period\n",
    "    start_date = df.index[end_idx - 1].strftime('%Y-%m-%d')\n",
    "    \n",
    "    # Store the result with a date range representing the period\n",
    "    period_label = f'Days {start_idx+1} to {end_idx}'\n",
    "    sma_results_6months[period_label] = {\n",
    "        'date_range': f'{start_date} to {end_date}',\n",
    "        'sum': sum_of_closes\n",
    "    }\n",
    "\n",
    "# Print all the SMA sums for 14-day periods within the first 180 days\n",
    "print(\"SMA for 14-day periods within the first 180 days:\")\n",
    "for period, data in sma_results_6months.items():\n",
    "    print(f\"{period} ({data['date_range']}): {data['sum']}\")\n"
   ]
  },
  {
   "cell_type": "code",
   "execution_count": 13,
   "metadata": {},
   "outputs": [
    {
     "name": "stdout",
     "output_type": "stream",
     "text": [
      "Averages for 14-day periods within the first 180 days:\n",
      "Days 1 to 14 (2024-07-03 to 2024-07-16): 58975.35\n",
      "Days 15 to 28 (2024-06-19 to 2024-07-02): 62470.25\n",
      "Days 29 to 42 (2024-06-05 to 2024-06-18): 68032.17\n",
      "Days 43 to 56 (2024-05-22 to 2024-06-04): 68522.74\n",
      "Days 57 to 70 (2024-05-08 to 2024-05-21): 64648.71\n",
      "Days 71 to 84 (2024-04-24 to 2024-05-07): 62657.92\n",
      "Days 85 to 98 (2024-04-10 to 2024-04-23): 65460.12\n",
      "Days 99 to 112 (2024-03-27 to 2024-04-09): 69112.68\n",
      "Days 113 to 126 (2024-03-13 to 2024-03-26): 67534.13\n",
      "Days 127 to 140 (2024-02-28 to 2024-03-12): 66137.78\n",
      "Days 141 to 154 (2024-02-14 to 2024-02-27): 52325.95\n",
      "Days 155 to 168 (2024-01-31 to 2024-02-13): 45192.59\n"
     ]
    }
   ],
   "source": [
    "# Calculate averages for each 14-day period\n",
    "sma_averages = {}\n",
    "\n",
    "for period, data in sma_results_6months.items():\n",
    "    average = data['sum'] / 14\n",
    "    sma_averages[period] = {\n",
    "        'date_range': data['date_range'],\n",
    "        'average': average\n",
    "    }\n",
    "\n",
    "# Print the averages\n",
    "print(\"Averages for 14-day periods within the first 180 days:\")\n",
    "for period, data in sma_averages.items():\n",
    "    print(f\"{period} ({data['date_range']}): {data['average']:.2f}\")\n"
   ]
  }
 ],
 "metadata": {
  "kernelspec": {
   "display_name": "venv",
   "language": "python",
   "name": "python3"
  },
  "language_info": {
   "codemirror_mode": {
    "name": "ipython",
    "version": 3
   },
   "file_extension": ".py",
   "mimetype": "text/x-python",
   "name": "python",
   "nbconvert_exporter": "python",
   "pygments_lexer": "ipython3",
   "version": "3.12.0"
  }
 },
 "nbformat": 4,
 "nbformat_minor": 2
}
