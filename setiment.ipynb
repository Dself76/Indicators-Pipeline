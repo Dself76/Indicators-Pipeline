{
 "cells": [
  {
   "cell_type": "code",
   "execution_count": 1,
   "metadata": {},
   "outputs": [
    {
     "ename": "ImportError",
     "evalue": "cannot import name 'pd' from 'pandas' (c:\\Users\\dself\\OneDrive\\Programming\\indicatorsTrading\\venv\\Lib\\site-packages\\pandas\\__init__.py)",
     "output_type": "error",
     "traceback": [
      "\u001b[1;31m---------------------------------------------------------------------------\u001b[0m",
      "\u001b[1;31mImportError\u001b[0m                               Traceback (most recent call last)",
      "Cell \u001b[1;32mIn[1], line 1\u001b[0m\n\u001b[1;32m----> 1\u001b[0m \u001b[38;5;28;01mfrom\u001b[39;00m \u001b[38;5;21;01mpandas\u001b[39;00m \u001b[38;5;28;01mimport\u001b[39;00m pd\n\u001b[0;32m      2\u001b[0m \u001b[38;5;28;01mfrom\u001b[39;00m \u001b[38;5;21;01mdocx\u001b[39;00m \u001b[38;5;28;01mimport\u001b[39;00m Document\n",
      "\u001b[1;31mImportError\u001b[0m: cannot import name 'pd' from 'pandas' (c:\\Users\\dself\\OneDrive\\Programming\\indicatorsTrading\\venv\\Lib\\site-packages\\pandas\\__init__.py)"
     ]
    }
   ],
   "source": [
    "from pandas import pd\n",
    "from docx import Document\n"
   ]
  },
  {
   "cell_type": "code",
   "execution_count": null,
   "metadata": {},
   "outputs": [],
   "source": []
  },
  {
   "cell_type": "code",
   "execution_count": null,
   "metadata": {},
   "outputs": [],
   "source": [
    "# Function to get sentiment\n",
    "def get_sentiment(text):\n",
    "    return TextBlob(text).sentiment.polarity\n"
   ]
  },
  {
   "cell_type": "code",
   "execution_count": null,
   "metadata": {},
   "outputs": [],
   "source": [
    "# Function to extract text from a .docx file\n",
    "def extract_text_from_docx(file_path):\n",
    "    doc = Document(file_path)\n",
    "    full_text = []\n",
    "    for para in doc.paragraphs:\n",
    "        full_text.append(para.text)\n",
    "    return '\\n'.join(full_text)\n"
   ]
  },
  {
   "cell_type": "code",
   "execution_count": null,
   "metadata": {},
   "outputs": [],
   "source": [
    "# Function to analyze content related to user-specified keywords\n",
    "def analyze_content(text, keywords):\n",
    "    # Convert to lowercase for easier matching\n",
    "    content_lower = text.lower()\n",
    "    # Check if any keyword is in the content\n",
    "    if not any(keyword.lower() in content_lower for keyword in keywords):\n",
    "        print(f\"No content related to {', '.join(keywords)} found in the document.\")\n",
    "        return\n",
    "\n",
    "    # Split content into sentences\n",
    "    sentences = text.split('.')\n",
    "\n",
    "    # Analyze each sentence\n",
    "    for sentence in sentences:\n",
    "        # Check if sentence contains any of the keywords\n",
    "        if any(keyword.lower() in sentence.lower() for keyword in keywords):\n",
    "            # Clean the sentence\n",
    "            clean_sentence = sentence.strip()\n",
    "            \n",
    "            # Get sentiment\n",
    "            sentiment = get_sentiment(clean_sentence)\n",
    "\n",
    "            # Interpret sentiment\n",
    "            if sentiment > 0.05:\n",
    "                sentiment_label = \"Positive\"\n",
    "            elif sentiment < -0.05:\n",
    "                sentiment_label = \"Negative\"\n",
    "            else:\n",
    "                sentiment_label = \"Neutral\"\n",
    "\n",
    "            # Check for specific keywords indicating price movement or trading activity\n",
    "            price_up = any(word in clean_sentence.lower() for word in ['rise', 'rising', 'up', 'bull', 'bullish', 'increase'])\n",
    "            price_down = any(word in clean_sentence.lower() for word in ['fall', 'falling', 'down', 'bear', 'bearish', 'decrease'])\n",
    "            buying = 'buy' in clean_sentence.lower() or 'buying' in clean_sentence.lower()\n",
    "            selling = 'sell' in clean_sentence.lower() or 'selling' in clean_sentence.lower()\n",
    "\n",
    "            # Print results\n",
    "            print(f\"Sentence: {clean_sentence}\")\n",
    "            print(f\"Sentiment: {sentiment_label} ({sentiment:.2f})\")\n",
    "            if price_up:\n",
    "                print(\"Indicates price might be going up\")\n",
    "            if price_down:\n",
    "                print(\"Indicates price might be going down\")\n",
    "            if buying:\n",
    "                print(\"Mentions buying activity\")\n",
    "            if selling:\n",
    "                print(\"Mentions selling activity\")\n",
    "            print()\n",
    "\n"
   ]
  },
  {
   "cell_type": "code",
   "execution_count": null,
   "metadata": {},
   "outputs": [],
   "source": [
    "# Prompt user for input\n",
    "keywords_input = input(\"Enter the keywords to analyze (comma-separated): \")\n",
    "keywords = [keyword.strip() for keyword in keywords_input.split(',')]"
   ]
  },
  {
   "cell_type": "code",
   "execution_count": null,
   "metadata": {},
   "outputs": [],
   "source": [
    "# Extract text from the uploaded document\n",
    "file_path = 'btcSediment.docx'\n",
    "document_text = extract_text_from_docx(file_path)\n",
    "\n",
    "# Analyze the extracted text\n",
    "analyze_content(document_text, keywords)\n"
   ]
  },
  {
   "cell_type": "code",
   "execution_count": null,
   "metadata": {},
   "outputs": [],
   "source": []
  }
 ],
 "metadata": {
  "kernelspec": {
   "display_name": "venv",
   "language": "python",
   "name": "python3"
  },
  "language_info": {
   "codemirror_mode": {
    "name": "ipython",
    "version": 3
   },
   "file_extension": ".py",
   "mimetype": "text/x-python",
   "name": "python",
   "nbconvert_exporter": "python",
   "pygments_lexer": "ipython3",
   "version": "3.12.0"
  }
 },
 "nbformat": 4,
 "nbformat_minor": 2
}
